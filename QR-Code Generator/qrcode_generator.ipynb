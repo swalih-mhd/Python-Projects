{
  "nbformat": 4,
  "nbformat_minor": 0,
  "metadata": {
    "colab": {
      "provenance": []
    },
    "kernelspec": {
      "name": "python3",
      "display_name": "Python 3"
    },
    "language_info": {
      "name": "python"
    }
  },
  "cells": [
    {
      "cell_type": "code",
      "source": [
        "pip install qrcode"
      ],
      "metadata": {
        "colab": {
          "base_uri": "https://localhost:8080/"
        },
        "id": "nSXfuZ2D656x",
        "outputId": "186cd4c5-7efa-4301-b6a7-698a23dd63c5"
      },
      "execution_count": null,
      "outputs": [
        {
          "output_type": "stream",
          "name": "stdout",
          "text": [
            "Collecting qrcode\n",
            "  Downloading qrcode-8.0-py3-none-any.whl.metadata (17 kB)\n",
            "Downloading qrcode-8.0-py3-none-any.whl (45 kB)\n",
            "\u001b[?25l   \u001b[90m━━━━━━━━━━━━━━━━━━━━━━━━━━━━━━━━━━━━━━━━\u001b[0m \u001b[32m0.0/45.7 kB\u001b[0m \u001b[31m?\u001b[0m eta \u001b[36m-:--:--\u001b[0m\r\u001b[2K   \u001b[90m━━━━━━━━━━━━━━━━━━━━━━━━━━━━━━━━━━━━━━━━\u001b[0m \u001b[32m45.7/45.7 kB\u001b[0m \u001b[31m1.9 MB/s\u001b[0m eta \u001b[36m0:00:00\u001b[0m\n",
            "\u001b[?25hInstalling collected packages: qrcode\n",
            "Successfully installed qrcode-8.0\n"
          ]
        }
      ]
    },
    {
      "cell_type": "markdown",
      "source": [
        "### qr code generating code for website"
      ],
      "metadata": {
        "id": "L4TI72uWAvKQ"
      }
    },
    {
      "cell_type": "code",
      "execution_count": null,
      "metadata": {
        "colab": {
          "base_uri": "https://localhost:8080/"
        },
        "id": "njkRqBM76vT5",
        "outputId": "575e354f-0c99-4361-d993-03de13d7f89c"
      },
      "outputs": [
        {
          "output_type": "stream",
          "name": "stdout",
          "text": [
            "QR code saved as website_qr.png\n"
          ]
        }
      ],
      "source": [
        "import qrcode\n",
        "\n",
        "def generate_website_qr(url, filename=\"website_qr.png\"):\n",
        "    img = qrcode.make(url)  # Generate QR code for the website\n",
        "    img.save(filename)  # Save as an image\n",
        "    img.show()  # Display the QR code\n",
        "    print(f\"QR code saved as {filename}\")\n",
        "\n",
        "# Example usage\n",
        "generate_website_qr(\"https://www.amazon.in/?&tag=googhydrabk1-21&ref=pd_sl_5szpgfto9i_e&adgrpid=155259813593&hvpone=&hvptwo=&hvadid=674893540034&hvpos=&hvnetw=g&hvrand=5095199561799775157&hvqmt=e&hvdev=c&hvdvcmdl=&hvlocint=&hvlocphy=9299401&hvtargid=kwd-64107830&hydadcr=14452_2316413&gad_source=1\")"
      ]
    },
    {
      "cell_type": "markdown",
      "source": [
        "### qr code generating code for image"
      ],
      "metadata": {
        "id": "KWWIZS1mBAeT"
      }
    },
    {
      "cell_type": "code",
      "source": [
        "import qrcode\n",
        "\n",
        "def generate_qr_for_local_file(filepath, filename=\"image_qr.png\"):\n",
        "    img = qrcode.make(filepath)  # Encode file path in QR code\n",
        "    img.save(filename)  # Save QR code image\n",
        "    img.show()  # Display the QR code\n",
        "    print(f\"QR code saved as {filename}\")\n",
        "\n",
        "# Example usage (Local file path)\n",
        "generate_qr_for_local_file(r\"https://avatars.githubusercontent.com/u/179480690?v=4\")"
      ],
      "metadata": {
        "colab": {
          "base_uri": "https://localhost:8080/"
        },
        "id": "0EiNewMJ6wWh",
        "outputId": "1a0e494c-eae7-47cb-8ff6-1a6425c2d4c4"
      },
      "execution_count": null,
      "outputs": [
        {
          "output_type": "stream",
          "name": "stdout",
          "text": [
            "QR code saved as image_qr.png\n"
          ]
        }
      ]
    },
    {
      "cell_type": "markdown",
      "source": [
        "### qr code generating code for video"
      ],
      "metadata": {
        "id": "ydPS2YQpB3b8"
      }
    },
    {
      "cell_type": "code",
      "source": [
        "import qrcode\n",
        "\n",
        "def generate_qr_for_local_file(filepath, filename=\"video_qr.png\"):\n",
        "    img = qrcode.make(filepath)  # Encode file path in QR code\n",
        "    img.save(filename)  # Save QR code image\n",
        "    img.show()  # Display the QR code\n",
        "    print(f\"QR code saved as {filename}\")\n",
        "\n",
        "# Example usage (Local file path)\n",
        "generate_qr_for_local_file(r\"https://youtu.be/zpieZkvFnlE?si=JIHru6C-k_m7QWGm\")"
      ],
      "metadata": {
        "colab": {
          "base_uri": "https://localhost:8080/"
        },
        "id": "kSe97kv2BkGu",
        "outputId": "7e9f4b48-aa9c-42cf-a5d1-f61817a160d9"
      },
      "execution_count": null,
      "outputs": [
        {
          "output_type": "stream",
          "name": "stdout",
          "text": [
            "QR code saved as video_qr.png\n"
          ]
        }
      ]
    },
    {
      "cell_type": "markdown",
      "source": [
        "## qr code generating code for tex"
      ],
      "metadata": {
        "id": "TWUkoyUIEuFh"
      }
    },
    {
      "cell_type": "code",
      "source": [
        "import qrcode\n",
        "\n",
        "def generate_qr_for_local_file(filepath, filename=\"text_qr.png\"):\n",
        "    img = qrcode.make(filepath)  # Encode file path in QR code\n",
        "    img.save(filename)  # Save QR code image\n",
        "    img.show()  # Display the QR code\n",
        "    print(f\"QR code saved as {filename}\")\n",
        "\n",
        "# Example usage (Local file path)\n",
        "generate_qr_for_local_file(r\"C:\\Users\\asus\\Documents\\hello world.txt\")"
      ],
      "metadata": {
        "colab": {
          "base_uri": "https://localhost:8080/"
        },
        "id": "qX4yCpf7Bo-W",
        "outputId": "25b55415-dd0b-4c23-bb4d-bffee04cda17"
      },
      "execution_count": null,
      "outputs": [
        {
          "output_type": "stream",
          "name": "stdout",
          "text": [
            "QR code saved as text_qr.png\n"
          ]
        }
      ]
    },
    {
      "cell_type": "code",
      "source": [],
      "metadata": {
        "id": "CWp6Po4HE15C"
      },
      "execution_count": null,
      "outputs": []
    }
  ]
}